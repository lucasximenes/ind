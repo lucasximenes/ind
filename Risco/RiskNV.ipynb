{
 "cells": [
  {
   "cell_type": "markdown",
   "id": "561ca948",
   "metadata": {},
   "source": [
    "### Newsvendor problem\n",
    "\n",
    "We've seen how to solve the following formulation of the Newsvendor problem\n",
    "$$\\min_x\\ cx +\\ \\mathbb{E}[Q(x, \\xi)]$$\n",
    "By transforming it into it's deterministic equivalent\n",
    "$$\n",
    "  \\begin{aligned}\n",
    "    \\min_{x,y,w} & \\quad cx + \\sum_s p(s)(-ky - rw)\\\\\n",
    "    \\textrm{s.t.} \\quad & y_s \\leq w_s\\\\\n",
    "     & y_s + w_s \\leq x\n",
    "  \\end{aligned}\n",
    "$$\n",
    "\n",
    "where $c, k, r$ are the cost, selling price and return price respectively, $p(s)$ is the probability of the $s-th$ demand and $y$ and $w$ are the number of units sold and returned respectively.\n",
    "\n",
    "Now we're interested in using a risk measure instead of the expected value. The risk measure we'll use is a convex combination of the expected value and the CV@R. Where $\\lambda$ is our risk appetite parameter.\n",
    "\n",
    "$$\\min_x\\ cx +\\ \\rho[Q(x, \\xi)] = \\min_x\\ cx +\\ \\lambda \\mathbb{E}[Q(x, \\xi)] + (1-\\lambda)CV@R[Q(x,\\xi)]$$\n",
    "\n",
    "We know how to handle the expected value as shown above, but how do we handle the CV@R? In order to do so, we must consider the minimization formulation of the CV@R and then incorporate it in the deterministic equivalent.\n",
    "\n",
    "$$ \n",
    "\\begin{aligned}\n",
    "CV@R = \\min_{L}\\ L + \\frac{\\mathbb{E}[Q(x,\\xi) - L]^+}{1-\\alpha}\n",
    "\\end{aligned}\n",
    "$$\n",
    "\n",
    "Linearizing the positive function inside the expected value, we get:\n",
    "\n",
    "$$\n",
    "  \\begin{aligned}\n",
    "  \\min_{L, \\theta} &\\quad L + \\frac{\\sum_s p(s)\\theta}{1-\\alpha}\\\\\n",
    "  \\textrm{s.t.} \\quad & \\theta \\geq 0\\\\\n",
    "    & \\theta \\geq Q(x,\\xi) - L\n",
    "  \\end{aligned}\n",
    "$$\n",
    "\n",
    "Now in order to incorporate this in the deterministic equivalent, we must get rid of the $Q(x, \\xi)$ on the constraint. We do this by using a \"trick\" that involves finding a single solution to the second-stage problem for each scenario that is smaller than $\\theta$, this works because we're trying make $\\theta$ greater than a minimization problem, so any solution that is smaller than $\\theta$ will make $\\theta$ greater than the actual minimum.\n",
    "\n",
    "$$\n",
    "  \\begin{aligned}\n",
    "  \\min_{L, \\theta} &\\quad L + \\frac{\\sum_s p(s)\\theta}{1-\\alpha}\\\\\n",
    "  \\textrm{s.t.} \\quad & \\theta \\geq 0\\\\\n",
    "    & \\theta_s \\geq -ky_s - qw_s - L\n",
    "  \\end{aligned}\n",
    "$$\n",
    "\n",
    "Now we can incorporate this in the deterministic equivalent:\n",
    "\n",
    "$$\n",
    "  \\begin{aligned}\n",
    "    \\min_{x,y_s,w_s,\\theta_s, L} & \\quad cx + (\\lambda)\\sum_s p(s)(-sy - rw) + (1-\\lambda)(\\frac{\\sum_s p(s)\\theta_s}{1-\\alpha} + L)\\\\\n",
    "    \\textrm{s.t.} \\quad & y_s \\leq w_s\\\\\n",
    "     & y_s + w_s \\leq x\\\\\n",
    "     & \\theta_s \\geq 0\\\\\n",
    "    & \\theta_s \\geq -ky_s - qw_s - L\n",
    "  \\end{aligned}\n",
    "$$\n",
    "\n",
    "p.s: all computations will use $\\alpha$ = 0.9\n"
   ]
  },
  {
   "cell_type": "code",
   "execution_count": 2,
   "id": "d2eaedf9",
   "metadata": {
    "collapsed": true
   },
   "outputs": [
    {
     "data": {
      "text/plain": [
       "f (generic function with 1 method)"
      ]
     },
     "metadata": {},
     "output_type": "display_data"
    }
   ],
   "source": [
    "using JuMP, Plots, HiGHS, PlotlyJS, LinearAlgebra\n",
    "plotlyjs()\n",
    "d = collect(50:150)\n",
    "N = length(d)\n",
    "p = (1/N)*ones(N)\n",
    "\n",
    "function Q(x,d)\n",
    "    m = Model(HiGHS.Optimizer)\n",
    "    set_silent(m)\n",
    "    @variables(m, \n",
    "    begin\n",
    "        y ≥ 0\n",
    "        w ≥ 0\n",
    "    end)\n",
    "\n",
    "    @constraints(m,\n",
    "    begin\n",
    "        y ≤ d\n",
    "        y + w ≤ x\n",
    "    end)\n",
    "\n",
    "    @objective(m, Min, -25 * y - 5 * w)\n",
    "    optimize!(m)\n",
    "    return objective_value(m)\n",
    "end\n",
    "\n",
    "g(x) = sum(p[s]*Q(x,d[s]) for s = 1:N)\n",
    "\n",
    "f(x) = 10*x + g(x)"
   ]
  },
  {
   "cell_type": "code",
   "execution_count": 3,
   "id": "86f9f534",
   "metadata": {},
   "outputs": [
    {
     "data": {
      "text/plain": [
       "1.0"
      ]
     },
     "metadata": {},
     "output_type": "display_data"
    }
   ],
   "source": [
    "α = 0.90\n",
    "λ = 1.0"
   ]
  },
  {
   "cell_type": "code",
   "execution_count": 4,
   "id": "2e9ea416",
   "metadata": {},
   "outputs": [
    {
     "data": {
      "text/plain": [
       "ConvexCombinationDEP (generic function with 1 method)"
      ]
     },
     "metadata": {},
     "output_type": "display_data"
    }
   ],
   "source": [
    "function ConvexCombinationDEP(λ)\n",
    "    \n",
    "    m = Model(HiGHS.Optimizer)\n",
    "    set_silent(m)\n",
    "    \n",
    "    @variables(m,\n",
    "    begin\n",
    "        0 ≤ x ≤ 150\n",
    "        y[1:N] ≥ 0\n",
    "        w[1:N] ≥ 0\n",
    "        l\n",
    "        θ[1:N] ≥ 0\n",
    "    end)\n",
    "    \n",
    "    @constraints(m,\n",
    "    begin\n",
    "        ct1[s=1:N], y[s] ≤ d[s]\n",
    "        ct2[s=1:N], y[s] + w[s] ≤ x\n",
    "        ct3[s=1:N], θ[s] ≥ -25*y[s] - 5*w[s] - l\n",
    "        ct4[s=1:N], θ[s] ≥ 0\n",
    "    end)\n",
    "    \n",
    "    @objective(m, Min, 10 * x + λ*sum(p[s]*(-25*y[s] -5*w[s]) for s = 1:N) + (1-λ)*(l + sum(p[s]*θ[s]/(1-α) for s = 1:N)))\n",
    "    \n",
    "    optimize!(m)\n",
    "\n",
    "    return objective_value(m), value(x)\n",
    "end\n"
   ]
  },
  {
   "cell_type": "code",
   "execution_count": 8,
   "id": "ffcf6633",
   "metadata": {},
   "outputs": [
    {
     "name": "stdout",
     "output_type": "stream",
     "text": [
      "ConvexCombinationDEP(1) = (-1310.6435643564353, 125.0)\n",
      "ConvexCombinationDEP(0.5) = (-919.3069306930685, 100.0)\n",
      "ConvexCombinationDEP(0) = (-799.5544554455446, 57.0)\n"
     ]
    },
    {
     "data": {
      "text/plain": [
       "(-799.5544554455446, 57.0)"
      ]
     },
     "metadata": {},
     "output_type": "display_data"
    }
   ],
   "source": [
    "@show ConvexCombinationDEP(1)\n",
    "@show ConvexCombinationDEP(0.5)\n",
    "@show ConvexCombinationDEP(0)\n",
    "\n",
    "## Solving for the optimal value of newspapers to buy with three different risk appetite levels."
   ]
  },
  {
   "cell_type": "code",
   "execution_count": 6,
   "id": "1d2429a4",
   "metadata": {},
   "outputs": [
    {
     "data": {
      "application/vnd.plotly.v1+json": {
       "data": [
        {
         "colorbar": {
          "title": ""
         },
         "legendgroup": "y1",
         "line": {
          "color": "rgba(0, 154, 250, 1.000)",
          "dash": "solid",
          "shape": "linear",
          "width": 1
         },
         "mode": "lines",
         "name": "y1",
         "showlegend": true,
         "type": "scatter",
         "x": [
          0,
          0.05,
          0.1,
          0.15,
          0.2,
          0.25,
          0.3,
          0.35,
          0.4,
          0.45,
          0.5,
          0.55,
          0.6,
          0.65,
          0.7,
          0.75,
          0.8,
          0.85,
          0.9,
          0.95,
          1
         ],
         "xaxis": "x",
         "y": [
          57,
          57,
          57.99999999999999,
          57.99999999999999,
          59,
          59,
          66,
          78,
          87,
          94,
          100,
          105,
          108,
          112,
          114,
          117,
          119,
          121,
          122,
          124,
          125
         ],
         "yaxis": "y",
         "zmax": null,
         "zmin": null
        }
       ],
       "layout": {
        "annotations": [],
        "height": 400,
        "legend": {
         "bgcolor": "rgba(255, 255, 255, 1.000)",
         "bordercolor": "rgba(0, 0, 0, 1.000)",
         "borderwidth": 1,
         "font": {
          "color": "rgba(0, 0, 0, 1.000)",
          "family": "sans-serif",
          "size": 11
         },
         "title": {
          "font": {
           "color": "rgba(0, 0, 0, 1.000)",
           "family": "sans-serif",
           "size": 15
          },
          "text": ""
         },
         "tracegroupgap": 0,
         "traceorder": "normal",
         "x": 0.07,
         "xanchor": "left",
         "y": 1,
         "yanchor": "top"
        },
        "margin": {
         "b": 20,
         "l": 0,
         "r": 0,
         "t": 20
        },
        "paper_bgcolor": "rgba(255, 255, 255, 1.000)",
        "plot_bgcolor": "rgba(255, 255, 255, 1.000)",
        "showlegend": true,
        "width": 600,
        "xaxis": {
         "anchor": "y",
         "domain": [
          0.07646908719743364,
          0.9934383202099737
         ],
         "gridcolor": "rgba(0, 0, 0, 0.100)",
         "gridwidth": 0.5,
         "linecolor": "rgba(0, 0, 0, 1.000)",
         "mirror": false,
         "range": [
          -0.03,
          1.03
         ],
         "showgrid": true,
         "showline": true,
         "showticklabels": true,
         "tickangle": 0,
         "tickcolor": "rgb(0, 0, 0)",
         "tickfont": {
          "color": "rgba(0, 0, 0, 1.000)",
          "family": "sans-serif",
          "size": 11
         },
         "tickmode": "array",
         "ticks": "inside",
         "ticktext": [
          "0.00",
          "0.25",
          "0.50",
          "0.75",
          "1.00"
         ],
         "tickvals": [
          0,
          0.25,
          0.5,
          0.75,
          1
         ],
         "title": "λ",
         "titlefont": {
          "color": "rgba(0, 0, 0, 1.000)",
          "family": "sans-serif",
          "size": 15
         },
         "type": "-",
         "visible": true,
         "zeroline": false,
         "zerolinecolor": "rgba(0, 0, 0, 1.000)"
        },
        "yaxis": {
         "anchor": "x",
         "domain": [
          0.07581474190726165,
          0.9901574803149606
         ],
         "gridcolor": "rgba(0, 0, 0, 0.100)",
         "gridwidth": 0.5,
         "linecolor": "rgba(0, 0, 0, 1.000)",
         "mirror": false,
         "range": [
          54.96,
          127.04
         ],
         "showgrid": true,
         "showline": true,
         "showticklabels": true,
         "tickangle": 0,
         "tickcolor": "rgb(0, 0, 0)",
         "tickfont": {
          "color": "rgba(0, 0, 0, 1.000)",
          "family": "sans-serif",
          "size": 11
         },
         "tickmode": "array",
         "ticks": "inside",
         "ticktext": [
          "60",
          "70",
          "80",
          "90",
          "100",
          "110",
          "120"
         ],
         "tickvals": [
          60,
          70,
          80,
          90,
          100,
          110,
          120
         ],
         "title": "Amount of newspapers",
         "titlefont": {
          "color": "rgba(0, 0, 0, 1.000)",
          "family": "sans-serif",
          "size": 15
         },
         "type": "-",
         "visible": true,
         "zeroline": false,
         "zerolinecolor": "rgba(0, 0, 0, 1.000)"
        }
       }
      },
      "image/png": "[encoded data removed]",
      "image/svg+xml": "<svg class=\"main-svg\" xmlns=\"http://www.w3.org/2000/svg\" xmlns:xlink=\"http://www.w3.org/1999/xlink\" width=\"700\" height=\"500\" style=\"\" viewBox=\"0 0 700 500\"><rect x=\"0\" y=\"0\" width=\"700\" height=\"500\" style=\"fill: rgb(255, 255, 255); fill-opacity: 1;\"/><defs id=\"defs-11ee3b\"><g class=\"clips\"><clipPath id=\"clip11ee3bxyplot\" class=\"plotclip\"><rect width=\"550.181539807524\" height=\"356.5936679790026\"/></clipPath><clipPath class=\"axesclip\" id=\"clip11ee3bx\"><rect x=\"95.88145231846019\" y=\"0\" width=\"550.181539807524\" height=\"500\"/></clipPath><clipPath class=\"axesclip\" id=\"clip11ee3by\"><rect x=\"0\" y=\"63.83858267716535\" width=\"700\" height=\"356.5936679790026\"/></clipPath><clipPath class=\"axesclip\" id=\"clip11ee3bxy\"><rect x=\"95.88145231846019\" y=\"63.83858267716535\" width=\"550.181539807524\" height=\"356.5936679790026\"/></clipPath></g><g class=\"gradients\"/></defs><g class=\"bglayer\"/><g class=\"layer-below\"><g class=\"imagelayer\"/><g class=\"shapelayer\"/></g><g class=\"cartesianlayer\"><g class=\"subplot xy\"><g class=\"layer-subplot\"><g class=\"shapelayer\"/><g class=\"imagelayer\"/></g><g class=\"gridlayer\"><g class=\"x\"><path class=\"xgrid crisp\" transform=\"translate(111.45145231846018,0)\" d=\"M0,63.83858267716535v356.5936679790026\" style=\"stroke: rgb(0, 0, 0); stroke-opacity: 0.1; stroke-width: 0.5px;\"/><path class=\"xgrid crisp\" transform=\"translate(241.2114523184602,0)\" d=\"M0,63.83858267716535v356.5936679790026\" style=\"stroke: rgb(0, 0, 0); stroke-opacity: 0.1; stroke-width: 0.5px;\"/><path class=\"xgrid crisp\" transform=\"translate(370.97145231846014,0)\" d=\"M0,63.83858267716535v356.5936679790026\" style=\"stroke: rgb(0, 0, 0); stroke-opacity: 0.1; stroke-width: 0.5px;\"/><path class=\"xgrid crisp\" transform=\"translate(500.73145231846024,0)\" d=\"M0,63.83858267716535v356.5936679790026\" style=\"stroke: rgb(0, 0, 0); stroke-opacity: 0.1; stroke-width: 0.5px;\"/><path class=\"xgrid crisp\" transform=\"translate(630.4914523184602,0)\" d=\"M0,63.83858267716535v356.5936679790026\" style=\"stroke: rgb(0, 0, 0); stroke-opacity: 0.1; stroke-width: 0.5px;\"/></g><g class=\"y\"><path class=\"ygrid crisp\" transform=\"translate(0,395.49858267716536)\" d=\"M95.88145231846019,0h550.181539807524\" style=\"stroke: rgb(0, 0, 0); stroke-opacity: 0.1; stroke-width: 0.5px;\"/><path class=\"ygrid crisp\" transform=\"translate(0,346.02858267716533)\" d=\"M95.88145231846019,0h550.181539807524\" style=\"stroke: rgb(0, 0, 0); stroke-opacity: 0.1; stroke-width: 0.5px;\"/><path class=\"ygrid crisp\" transform=\"translate(0,296.55858267716536)\" d=\"M95.88145231846019,0h550.181539807524\" style=\"stroke: rgb(0, 0, 0); stroke-opacity: 0.1; stroke-width: 0.5px;\"/><path class=\"ygrid crisp\" transform=\"translate(0,247.07858267716534)\" d=\"M95.88145231846019,0h550.181539807524\" style=\"stroke: rgb(0, 0, 0); stroke-opacity: 0.1; stroke-width: 0.5px;\"/><path class=\"ygrid crisp\" transform=\"translate(0,197.60858267716537)\" d=\"M95.88145231846019,0h550.181539807524\" style=\"stroke: rgb(0, 0, 0); stroke-opacity: 0.1; stroke-width: 0.5px;\"/><path class=\"ygrid crisp\" transform=\"translate(0,148.13858267716535)\" d=\"M95.88145231846019,0h550.181539807524\" style=\"stroke: rgb(0, 0, 0); stroke-opacity: 0.1; stroke-width: 0.5px;\"/><path class=\"ygrid crisp\" transform=\"translate(0,98.66858267716535)\" d=\"M95.88145231846019,0h550.181539807524\" style=\"stroke: rgb(0, 0, 0); stroke-opacity: 0.1; stroke-width: 0.5px;\"/></g></g><g class=\"zerolinelayer\"/><path class=\"xlines-below\"/><path class=\"ylines-below\"/><g class=\"overlines-below\"/><g class=\"xaxislayer-below\"/><g class=\"yaxislayer-below\"/><g class=\"overaxes-below\"/><g class=\"plot\" transform=\"translate(95.88145231846019,63.83858267716535)\" clip-path=\"url('#clip11ee3bxyplot')\"><g class=\"scatterlayer mlayer\"><g class=\"trace scatter trace9a016b\" style=\"stroke-miterlimit: 2; opacity: 1;\"><g class=\"fills\"/><g class=\"errorbars\"/><g class=\"lines\"><path class=\"js-line\" d=\"M15.57,346.5L41.52,346.5L67.48,341.55L93.43,341.55L119.38,336.61L145.33,336.61L171.28,301.98L197.23,242.61L223.19,198.09L249.14,163.46L275.09,133.77L301.04,109.04L326.99,94.19L352.95,74.41L378.9,64.51L404.85,49.67L430.8,39.78L456.75,29.88L482.71,24.93L508.66,15.04L534.61,10.09\" style=\"vector-effect: non-scaling-stroke; fill: none; stroke: rgb(0, 154, 250); stroke-opacity: 1; stroke-width: 1px; opacity: 1;\"/></g><g class=\"points\"/><g class=\"text\"/></g></g></g><g class=\"overplot\"/><path class=\"xlines-above crisp\" d=\"M94.88145231846019,420.9322506561679H646.0629921259842\" style=\"fill: none; stroke-width: 1px; stroke: rgb(0, 0, 0); stroke-opacity: 1;\"/><path class=\"ylines-above crisp\" d=\"M95.38145231846019,63.83858267716535V420.4322506561679\" style=\"fill: none; stroke-width: 1px; stroke: rgb(0, 0, 0); stroke-opacity: 1;\"/><g class=\"overlines-above\"/><g class=\"xaxislayer-above\"><path class=\"xtick ticks crisp\" d=\"M0,420.4322506561679v-5\" transform=\"translate(111.45145231846018,0)\" style=\"stroke: rgb(0, 0, 0); stroke-opacity: 1; stroke-width: 1px;\"/><path class=\"xtick ticks crisp\" d=\"M0,420.4322506561679v-5\" transform=\"translate(241.2114523184602,0)\" style=\"stroke: rgb(0, 0, 0); stroke-opacity: 1; stroke-width: 1px;\"/><path class=\"xtick ticks crisp\" d=\"M0,420.4322506561679v-5\" transform=\"translate(370.97145231846014,0)\" style=\"stroke: rgb(0, 0, 0); stroke-opacity: 1; stroke-width: 1px;\"/><path class=\"xtick ticks crisp\" d=\"M0,420.4322506561679v-5\" transform=\"translate(500.73145231846024,0)\" style=\"stroke: rgb(0, 0, 0); stroke-opacity: 1; stroke-width: 1px;\"/><path class=\"xtick ticks crisp\" d=\"M0,420.4322506561679v-5\" transform=\"translate(630.4914523184602,0)\" style=\"stroke: rgb(0, 0, 0); stroke-opacity: 1; stroke-width: 1px;\"/><g class=\"xtick\"><text text-anchor=\"middle\" x=\"0\" y=\"434.6322506561679\" transform=\"translate(111.45145231846018,0)\" style=\"font-family: sans-serif; font-size: 11px; fill: rgb(0, 0, 0); fill-opacity: 1; white-space: pre;\">0.00</text></g><g class=\"xtick\"><text text-anchor=\"middle\" x=\"0\" y=\"434.6322506561679\" transform=\"translate(241.2114523184602,0)\" style=\"font-family: sans-serif; font-size: 11px; fill: rgb(0, 0, 0); fill-opacity: 1; white-space: pre;\">0.25</text></g><g class=\"xtick\"><text text-anchor=\"middle\" x=\"0\" y=\"434.6322506561679\" transform=\"translate(370.97145231846014,0)\" style=\"font-family: sans-serif; font-size: 11px; fill: rgb(0, 0, 0); fill-opacity: 1; white-space: pre;\">0.50</text></g><g class=\"xtick\"><text text-anchor=\"middle\" x=\"0\" y=\"434.6322506561679\" transform=\"translate(500.73145231846024,0)\" style=\"font-family: sans-serif; font-size: 11px; fill: rgb(0, 0, 0); fill-opacity: 1; white-space: pre;\">0.75</text></g><g class=\"xtick\"><text text-anchor=\"middle\" x=\"0\" y=\"434.6322506561679\" transform=\"translate(630.4914523184602,0)\" style=\"font-family: sans-serif; font-size: 11px; fill: rgb(0, 0, 0); fill-opacity: 1; white-space: pre;\">1.00</text></g></g><g class=\"yaxislayer-above\"><path class=\"ytick ticks crisp\" d=\"M95.88145231846019,0h5\" transform=\"translate(0,395.49858267716536)\" style=\"stroke: rgb(0, 0, 0); stroke-opacity: 1; stroke-width: 1px;\"/><path class=\"ytick ticks crisp\" d=\"M95.88145231846019,0h5\" transform=\"translate(0,346.02858267716533)\" style=\"stroke: rgb(0, 0, 0); stroke-opacity: 1; stroke-width: 1px;\"/><path class=\"ytick ticks crisp\" d=\"M95.88145231846019,0h5\" transform=\"translate(0,296.55858267716536)\" style=\"stroke: rgb(0, 0, 0); stroke-opacity: 1; stroke-width: 1px;\"/><path class=\"ytick ticks crisp\" d=\"M95.88145231846019,0h5\" transform=\"translate(0,247.07858267716534)\" style=\"stroke: rgb(0, 0, 0); stroke-opacity: 1; stroke-width: 1px;\"/><path class=\"ytick ticks crisp\" d=\"M95.88145231846019,0h5\" transform=\"translate(0,197.60858267716537)\" style=\"stroke: rgb(0, 0, 0); stroke-opacity: 1; stroke-width: 1px;\"/><path class=\"ytick ticks crisp\" d=\"M95.88145231846019,0h5\" transform=\"translate(0,148.13858267716535)\" style=\"stroke: rgb(0, 0, 0); stroke-opacity: 1; stroke-width: 1px;\"/><path class=\"ytick ticks crisp\" d=\"M95.88145231846019,0h5\" transform=\"translate(0,98.66858267716535)\" style=\"stroke: rgb(0, 0, 0); stroke-opacity: 1; stroke-width: 1px;\"/><g class=\"ytick\"><text text-anchor=\"end\" x=\"92.68145231846019\" y=\"3.8499999999999996\" transform=\"translate(0,395.49858267716536)\" style=\"font-family: sans-serif; font-size: 11px; fill: rgb(0, 0, 0); fill-opacity: 1; white-space: pre;\">60</text></g><g class=\"ytick\"><text text-anchor=\"end\" x=\"92.68145231846019\" y=\"3.8499999999999996\" transform=\"translate(0,346.02858267716533)\" style=\"font-family: sans-serif; font-size: 11px; fill: rgb(0, 0, 0); fill-opacity: 1; white-space: pre;\">70</text></g><g class=\"ytick\"><text text-anchor=\"end\" x=\"92.68145231846019\" y=\"3.8499999999999996\" transform=\"translate(0,296.55858267716536)\" style=\"font-family: sans-serif; font-size: 11px; fill: rgb(0, 0, 0); fill-opacity: 1; white-space: pre;\">80</text></g><g class=\"ytick\"><text text-anchor=\"end\" x=\"92.68145231846019\" y=\"3.8499999999999996\" transform=\"translate(0,247.07858267716534)\" style=\"font-family: sans-serif; font-size: 11px; fill: rgb(0, 0, 0); fill-opacity: 1; white-space: pre;\">90</text></g><g class=\"ytick\"><text text-anchor=\"end\" x=\"92.68145231846019\" y=\"3.8499999999999996\" transform=\"translate(0,197.60858267716537)\" style=\"font-family: sans-serif; font-size: 11px; fill: rgb(0, 0, 0); fill-opacity: 1; white-space: pre;\">100</text></g><g class=\"ytick\"><text text-anchor=\"end\" x=\"92.68145231846019\" y=\"3.8499999999999996\" transform=\"translate(0,148.13858267716535)\" style=\"font-family: sans-serif; font-size: 11px; fill: rgb(0, 0, 0); fill-opacity: 1; white-space: pre;\">110</text></g><g class=\"ytick\"><text text-anchor=\"end\" x=\"92.68145231846019\" y=\"3.8499999999999996\" transform=\"translate(0,98.66858267716535)\" style=\"font-family: sans-serif; font-size: 11px; fill: rgb(0, 0, 0); fill-opacity: 1; white-space: pre;\">120</text></g></g><g class=\"overaxes-above\"/></g></g><g class=\"polarlayer\"/><g class=\"ternarylayer\"/><g class=\"geolayer\"/><g class=\"funnelarealayer\"/><g class=\"pielayer\"/><g class=\"treemaplayer\"/><g class=\"sunburstlayer\"/><g class=\"glimages\"/><defs id=\"topdefs-11ee3b\"><g class=\"clips\"/><clipPath id=\"legend11ee3b\"><rect width=\"58\" height=\"29\" x=\"1\" y=\"1\"/></clipPath></defs><g class=\"layer-above\"><g class=\"imagelayer\"/><g class=\"shapelayer\"/></g><g class=\"infolayer\"><g class=\"legend\" pointer-events=\"all\" transform=\"translate(92,60)\"><rect class=\"bg\" shape-rendering=\"crispEdges\" style=\"stroke: rgb(0, 0, 0); stroke-opacity: 1; fill: rgb(255, 255, 255); fill-opacity: 1; stroke-width: 1px;\" width=\"59\" height=\"30\" x=\"0.5\" y=\"0.5\"/><g class=\"scrollbox\" transform=\"\" clip-path=\"url('#legend11ee3b')\"><g class=\"groups\"><g class=\"traces\" transform=\"translate(1,15.5)\" style=\"opacity: 1;\"><text class=\"legendtext\" text-anchor=\"start\" x=\"40\" y=\"4.29\" style=\"font-family: sans-serif; font-size: 11px; fill: rgb(0, 0, 0); fill-opacity: 1; white-space: pre;\">y1</text><g class=\"layers\" style=\"opacity: 1;\"><g class=\"legendfill\"/><g class=\"legendlines\"><path class=\"js-line\" d=\"M5,0h30\" style=\"fill: none; stroke: rgb(0, 154, 250); stroke-opacity: 1; stroke-width: 1px;\"/></g><g class=\"legendsymbols\"><g class=\"legendpoints\"/></g></g><rect class=\"legendtoggle\" x=\"0\" y=\"-9.5\" width=\"52.625\" height=\"19\" style=\"fill: rgb(0, 0, 0); fill-opacity: 0;\"/></g></g></g><rect class=\"scrollbar\" rx=\"20\" ry=\"3\" width=\"0\" height=\"0\" style=\"fill: rgb(128, 139, 164); fill-opacity: 1;\" x=\"0\" y=\"0\"/></g><g class=\"g-gtitle\"/><g class=\"g-xtitle\"><text class=\"xtitle\" x=\"370.9722222222222\" y=\"462.140625\" text-anchor=\"middle\" style=\"font-family: sans-serif; font-size: 15px; fill: rgb(0, 0, 0); opacity: 1; font-weight: normal; white-space: pre;\">λ</text></g><g class=\"g-ytitle\"><text class=\"ytitle\" transform=\"rotate(-90,48.828125,242.13541666666663)\" x=\"48.828125\" y=\"242.13541666666663\" text-anchor=\"middle\" style=\"font-family: sans-serif; font-size: 15px; fill: rgb(0, 0, 0); opacity: 1; font-weight: normal; white-space: pre;\">Amount of newspapers</text></g></g></svg>",
      "text/html": [
       "<script src=\"https://cdn.plot.ly/plotly-2.6.3.min.js\"></script>    <div id=\"6d6fae43-b6bf-4c34-8296-325f21a5f2d7\" style=\"width:600px;height:400px;\"></div>\n",
       "    <script>\n",
       "    \n",
       "        Plotly.newPlot('6d6fae43-b6bf-4c34-8296-325f21a5f2d7', [\n",
       "    {\n",
       "        \"xaxis\": \"x\",\n",
       "        \"colorbar\": {\n",
       "            \"title\": \"\"\n",
       "        },\n",
       "        \"yaxis\": \"y\",\n",
       "        \"x\": [\n",
       "            0.0,\n",
       "            0.05,\n",
       "            0.1,\n",
       "            0.15,\n",
       "            0.2,\n",
       "            0.25,\n",
       "            0.3,\n",
       "            0.35,\n",
       "            0.4,\n",
       "            0.45,\n",
       "            0.5,\n",
       "            0.55,\n",
       "            0.6,\n",
       "            0.65,\n",
       "            0.7,\n",
       "            0.75,\n",
       "            0.8,\n",
       "            0.85,\n",
       "            0.9,\n",
       "            0.95,\n",
       "            1.0\n",
       "        ],\n",
       "        \"showlegend\": true,\n",
       "        \"mode\": \"lines\",\n",
       "        \"name\": \"y1\",\n",
       "        \"zmin\": null,\n",
       "        \"legendgroup\": \"y1\",\n",
       "        \"zmax\": null,\n",
       "        \"line\": {\n",
       "            \"color\": \"rgba(0, 154, 250, 1.000)\",\n",
       "            \"shape\": \"linear\",\n",
       "            \"dash\": \"solid\",\n",
       "            \"width\": 1\n",
       "        },\n",
       "        \"y\": [\n",
       "            57.0,\n",
       "            57.0,\n",
       "            57.99999999999999,\n",
       "            57.99999999999999,\n",
       "            59.0,\n",
       "            59.0,\n",
       "            66.0,\n",
       "            78.0,\n",
       "            87.0,\n",
       "            94.0,\n",
       "            100.0,\n",
       "            105.0,\n",
       "            108.0,\n",
       "            112.0,\n",
       "            114.0,\n",
       "            117.0,\n",
       "            119.0,\n",
       "            121.0,\n",
       "            122.0,\n",
       "            124.0,\n",
       "            125.0\n",
       "        ],\n",
       "        \"type\": \"scatter\"\n",
       "    }\n",
       "]\n",
       ", {\n",
       "    \"showlegend\": true,\n",
       "    \"xaxis\": {\n",
       "        \"showticklabels\": true,\n",
       "        \"gridwidth\": 0.5,\n",
       "        \"tickvals\": [\n",
       "            0.0,\n",
       "            0.25,\n",
       "            0.5,\n",
       "            0.75,\n",
       "            1.0\n",
       "        ],\n",
       "        \"range\": [\n",
       "            -0.03,\n",
       "            1.03\n",
       "        ],\n",
       "        \"domain\": [\n",
       "            0.07646908719743364,\n",
       "            0.9934383202099737\n",
       "        ],\n",
       "        \"mirror\": false,\n",
       "        \"tickangle\": 0,\n",
       "        \"showline\": true,\n",
       "        \"ticktext\": [\n",
       "            \"0.00\",\n",
       "            \"0.25\",\n",
       "            \"0.50\",\n",
       "            \"0.75\",\n",
       "            \"1.00\"\n",
       "        ],\n",
       "        \"zeroline\": false,\n",
       "        \"tickfont\": {\n",
       "            \"color\": \"rgba(0, 0, 0, 1.000)\",\n",
       "            \"family\": \"sans-serif\",\n",
       "            \"size\": 11\n",
       "        },\n",
       "        \"zerolinecolor\": \"rgba(0, 0, 0, 1.000)\",\n",
       "        \"anchor\": \"y\",\n",
       "        \"visible\": true,\n",
       "        \"ticks\": \"inside\",\n",
       "        \"tickmode\": \"array\",\n",
       "        \"linecolor\": \"rgba(0, 0, 0, 1.000)\",\n",
       "        \"showgrid\": true,\n",
       "        \"title\": \"λ\",\n",
       "        \"gridcolor\": \"rgba(0, 0, 0, 0.100)\",\n",
       "        \"titlefont\": {\n",
       "            \"color\": \"rgba(0, 0, 0, 1.000)\",\n",
       "            \"family\": \"sans-serif\",\n",
       "            \"size\": 15\n",
       "        },\n",
       "        \"tickcolor\": \"rgb(0, 0, 0)\",\n",
       "        \"type\": \"-\"\n",
       "    },\n",
       "    \"paper_bgcolor\": \"rgba(255, 255, 255, 1.000)\",\n",
       "    \"annotations\": [],\n",
       "    \"height\": 400,\n",
       "    \"margin\": {\n",
       "        \"l\": 0,\n",
       "        \"b\": 20,\n",
       "        \"r\": 0,\n",
       "        \"t\": 20\n",
       "    },\n",
       "    \"plot_bgcolor\": \"rgba(255, 255, 255, 1.000)\",\n",
       "    \"yaxis\": {\n",
       "        \"showticklabels\": true,\n",
       "        \"gridwidth\": 0.5,\n",
       "        \"tickvals\": [\n",
       "            60.0,\n",
       "            70.0,\n",
       "            80.0,\n",
       "            90.0,\n",
       "            100.0,\n",
       "            110.0,\n",
       "            120.0\n",
       "        ],\n",
       "        \"range\": [\n",
       "            54.96,\n",
       "            127.04\n",
       "        ],\n",
       "        \"domain\": [\n",
       "            0.07581474190726165,\n",
       "            0.9901574803149606\n",
       "        ],\n",
       "        \"mirror\": false,\n",
       "        \"tickangle\": 0,\n",
       "        \"showline\": true,\n",
       "        \"ticktext\": [\n",
       "            \"60\",\n",
       "            \"70\",\n",
       "            \"80\",\n",
       "            \"90\",\n",
       "            \"100\",\n",
       "            \"110\",\n",
       "            \"120\"\n",
       "        ],\n",
       "        \"zeroline\": false,\n",
       "        \"tickfont\": {\n",
       "            \"color\": \"rgba(0, 0, 0, 1.000)\",\n",
       "            \"family\": \"sans-serif\",\n",
       "            \"size\": 11\n",
       "        },\n",
       "        \"zerolinecolor\": \"rgba(0, 0, 0, 1.000)\",\n",
       "        \"anchor\": \"x\",\n",
       "        \"visible\": true,\n",
       "        \"ticks\": \"inside\",\n",
       "        \"tickmode\": \"array\",\n",
       "        \"linecolor\": \"rgba(0, 0, 0, 1.000)\",\n",
       "        \"showgrid\": true,\n",
       "        \"title\": \"Amount of newspapers\",\n",
       "        \"gridcolor\": \"rgba(0, 0, 0, 0.100)\",\n",
       "        \"titlefont\": {\n",
       "            \"color\": \"rgba(0, 0, 0, 1.000)\",\n",
       "            \"family\": \"sans-serif\",\n",
       "            \"size\": 15\n",
       "        },\n",
       "        \"tickcolor\": \"rgb(0, 0, 0)\",\n",
       "        \"type\": \"-\"\n",
       "    },\n",
       "    \"legend\": {\n",
       "        \"yanchor\": \"top\",\n",
       "        \"xanchor\": \"left\",\n",
       "        \"bordercolor\": \"rgba(0, 0, 0, 1.000)\",\n",
       "        \"bgcolor\": \"rgba(255, 255, 255, 1.000)\",\n",
       "        \"borderwidth\": 1,\n",
       "        \"tracegroupgap\": 0,\n",
       "        \"y\": 1.0,\n",
       "        \"font\": {\n",
       "            \"color\": \"rgba(0, 0, 0, 1.000)\",\n",
       "            \"family\": \"sans-serif\",\n",
       "            \"size\": 11\n",
       "        },\n",
       "        \"title\": {\n",
       "            \"font\": {\n",
       "                \"color\": \"rgba(0, 0, 0, 1.000)\",\n",
       "                \"family\": \"sans-serif\",\n",
       "                \"size\": 15\n",
       "            },\n",
       "            \"text\": \"\"\n",
       "        },\n",
       "        \"traceorder\": \"normal\",\n",
       "        \"x\": 0.07\n",
       "    },\n",
       "    \"width\": 600\n",
       "}\n",
       ");\n",
       "\n",
       "    \n",
       "    </script>\n"
      ]
     },
     "metadata": {},
     "output_type": "display_data"
    }
   ],
   "source": [
    "xs = collect(0.00:0.05:1.0)\n",
    "ys = zeros(length(xs))\n",
    "for i = 1:length(xs)\n",
    "    ys[i] = ConvexCombinationDEP(xs[i])[2]\n",
    "end\n",
    "\n",
    "Plots.plot(xs, ys, xlabel = \"λ\", ylabel = \"Amount of newspapers\", legend = :topleft)"
   ]
  },
  {
   "cell_type": "markdown",
   "id": "4e2f37d9",
   "metadata": {},
   "source": [
    "Above we can see that at a certain point, being more conservative results in diminishing returns.\n",
    "\n",
    "### Benders cut on Newsvendor problem with CV@R dual formulation"
   ]
  },
  {
   "cell_type": "code",
   "execution_count": 9,
   "id": "cc790f82",
   "metadata": {},
   "outputs": [
    {
     "data": {
      "text/plain": [
       "compute_cut (generic function with 1 method)"
      ]
     },
     "metadata": {},
     "output_type": "display_data"
    }
   ],
   "source": [
    "function Q_aux(x, d)\n",
    "    m = Model(HiGHS.Optimizer)\n",
    "    set_silent(m)\n",
    "    @variables(m, \n",
    "    begin\n",
    "        y ≥ 0\n",
    "        w ≥ 0\n",
    "        x̃\n",
    "    end)\n",
    "\n",
    "    @constraints(m,\n",
    "    begin\n",
    "        con, x̃ == x\n",
    "        y ≤ d\n",
    "        y + w ≤ x̃\n",
    "    end)\n",
    "\n",
    "    @objective(m, Min, -25 * y - 5 * w)\n",
    "    optimize!(m)\n",
    "    return objective_value(m), shadow_price(con)\n",
    "end\n",
    "\n",
    "function dual_cvar(x)\n",
    "    model = Model(HiGHS.Optimizer)\n",
    "    set_silent(model)\n",
    "    @variable(model, q[1:N] >= 0)\n",
    "    @constraint(model, con1, sum(q) == 1)\n",
    "    @constraint(model, con2[s=1:N], q[s] ≤ p[s]/(1-α))\n",
    "    @constraint(model, con3[s=1:N], q[s] ≥ 0)\n",
    "    @objective(model, Max, sum(q[s]*Q_aux(x, d[s])[1] for s = 1:N))\n",
    "    optimize!(model)\n",
    "    return value.(q)\n",
    "end\n",
    "\n",
    "function compute_cut(x̂)\n",
    "    x̂ = value(x)\n",
    "    Q̄ = zeros(N)\n",
    "    π̄ = zeros(N)\n",
    "    for s = 1:N\n",
    "        Q̄[s] = Q_aux(x̂, d[s])[1]\n",
    "        π̄[s]= Q_aux(x̂, d[s])[2]\n",
    "    end\n",
    "    weights = dual_cvar(x̂)\n",
    "    Q̄ = Q̄ ⋅ weights\n",
    "    π̄ = π̄ ⋅ weights\n",
    "    return (x -> Q̄ + π̄ * (x - x̂))\n",
    "end"
   ]
  },
  {
   "cell_type": "code",
   "execution_count": 10,
   "id": "0a3ba4fd",
   "metadata": {},
   "outputs": [
    {
     "name": "stdout",
     "output_type": "stream",
     "text": [
      "(x̂, bestUB, LB, GAP) = (200.0, -1000.0, -3000.000000000001, 2000.000000000001)"
     ]
    },
    {
     "name": "stdout",
     "output_type": "stream",
     "text": [
      "\n",
      "(x̂, bestUB, LB, GAP) = (54.55445544554457, -1000.0, -818.3168316831689, -181.68316831683114)\n"
     ]
    },
    {
     "data": {
      "text/plain": [
       "54.55445544554457"
      ]
     },
     "metadata": {},
     "output_type": "display_data"
    }
   ],
   "source": [
    "Q̲ = -6000\n",
    "# Define master problem\n",
    "master = Model(HiGHS.Optimizer)\n",
    "set_silent(master)\n",
    "@variables(master, begin\n",
    "    0 <= x <= 200\n",
    "    θ ≥ Q̲\n",
    "end)\n",
    "@objective(master, Min, 10*x + θ)\n",
    "optimize!(master)\n",
    "\n",
    "LB = objective_value(master)\n",
    "x̂ = value(x)\n",
    "UB = f(x̂)\n",
    "bestUB = UB\n",
    "\n",
    "while (bestUB-LB) > 0.1\n",
    "    l = compute_cut(x̂)\n",
    "    @constraint(master, θ ≥ l(x))\n",
    "    optimize!(master)\n",
    "    LB = objective_value(master)\n",
    "    x̂ = value(x)\n",
    "    UB = f(x̂)\n",
    "    bestUB = min(bestUB, UB)\n",
    "    GAP = (bestUB-LB)\n",
    "    @show x̂, bestUB, LB, GAP\n",
    "end\n",
    "\n",
    "value(x)"
   ]
  },
  {
   "cell_type": "markdown",
   "id": "5de3b58d",
   "metadata": {},
   "source": [
    "Since we're using Benders for the newsvendor that uses only CV@R in the objective, we should get an approximate result to the risk-averse deterministic equivalent. We can see that the result is very close to the deterministic equivalent (Benders = 54.5 and DEP = 57)."
   ]
  }
 ],
 "metadata": {
  "kernelspec": {
   "display_name": "Julia 1.7.3",
   "language": "julia",
   "name": "julia-1.7"
  },
  "language_info": {
   "file_extension": ".jl",
   "mimetype": "application/julia",
   "name": "julia",
   "version": "1.7.3"
  }
 },
 "nbformat": 4,
 "nbformat_minor": 5
}
