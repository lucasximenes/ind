{
 "cells": [
  {
   "cell_type": "markdown",
   "id": "c213e9a2",
   "metadata": {},
   "source": [
    "### Newsvendor problem\n",
    "\n",
    "We define the newsvendor problem as the following two-stage optimization<br>\n",
    "<center>$min_x\\ cx +\\ Q(x, \\xi)$</center>\n",
    "where $Q(x, \\xi) = min_y $"
   ]
  },
  {
   "cell_type": "code",
   "execution_count": 2,
   "id": "d2eaedf9",
   "metadata": {
    "collapsed": true
   },
   "outputs": [
    {
     "data": {
      "text/plain": [
       "91-element Vector{Float64}:\n",
       " 0.01098901098901099\n",
       " 0.01098901098901099\n",
       " 0.01098901098901099\n",
       " 0.01098901098901099\n",
       " 0.01098901098901099\n",
       " 0.01098901098901099\n",
       " 0.01098901098901099\n",
       " 0.01098901098901099\n",
       " 0.01098901098901099\n",
       " 0.01098901098901099\n",
       " 0.01098901098901099\n",
       " 0.01098901098901099\n",
       " 0.01098901098901099\n",
       " ⋮\n",
       " 0.01098901098901099\n",
       " 0.01098901098901099\n",
       " 0.01098901098901099\n",
       " 0.01098901098901099\n",
       " 0.01098901098901099\n",
       " 0.01098901098901099\n",
       " 0.01098901098901099\n",
       " 0.01098901098901099\n",
       " 0.01098901098901099\n",
       " 0.01098901098901099\n",
       " 0.01098901098901099\n",
       " 0.01098901098901099"
      ]
     },
     "execution_count": 2,
     "metadata": {},
     "output_type": "execute_result"
    }
   ],
   "source": [
    "using JuMP, Plots, HiGHS, PlotlyJS\n",
    "plotlyjs()\n",
    "d = collect(60:150)\n",
    "N = length(d)\n",
    "p = (1/N)*ones(N)"
   ]
  },
  {
   "cell_type": "code",
   "execution_count": null,
   "id": "2e9ea416",
   "metadata": {},
   "outputs": [],
   "source": [
    "m = Model(HiGHS.Optimizer)\n",
    "set_silent(m)\n",
    "\n",
    "@variables(m,\n",
    "begin\n",
    "    0 ≤ x ≤ 150\n",
    "    y[1:N] ≥ 0\n",
    "    w[1:N] ≥ 0\n",
    "    l[1:N] \n",
    "end)\n",
    "\n",
    "@constraints(m,\n",
    "begin\n",
    "    ct1[s=1:N], y[s] ≤ d[s]\n",
    "    ct2[s=1:N], y[s] + w[s] ≤ x\n",
    "end)\n",
    "\n",
    "@objective(m, Min, 10 * x + sum(p[s]*(-25*y[s] -5*w[s]) for s = 1:N))\n",
    "\n",
    "optimize!(m)\n",
    "\n",
    "value(x) # Optimal amount of newspapers "
   ]
  }
 ],
 "metadata": {
  "kernelspec": {
   "display_name": "Julia 1.7.3",
   "language": "julia",
   "name": "julia-1.7"
  },
  "language_info": {
   "file_extension": ".jl",
   "mimetype": "application/julia",
   "name": "julia",
   "version": "1.7.3"
  }
 },
 "nbformat": 4,
 "nbformat_minor": 5
}
