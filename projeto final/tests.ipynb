{
 "cells": [
  {
   "cell_type": "code",
   "execution_count": 6,
   "metadata": {},
   "outputs": [
    {
     "data": {
      "text/plain": [
       "\"9EJJOC93M35KBI63\""
      ]
     },
     "execution_count": 6,
     "metadata": {},
     "output_type": "execute_result"
    }
   ],
   "source": [
    "using AlphaVantage\n",
    "\n",
    "client = AlphaVantage.GLOBAL[]\n",
    "client.key = \"9EJJOC93M35KBI63\"\n"
   ]
  },
  {
   "cell_type": "code",
   "execution_count": 11,
   "metadata": {},
   "outputs": [
    {
     "data": {
      "text/html": [
       "<div class=\"data-frame\"><p>100 rows × 9 columns (omitted printing of 1 columns)</p><table class=\"data-frame\"><thead><tr><th></th><th>timestamp</th><th>open</th><th>high</th><th>low</th><th>close</th><th>adjusted_close</th><th>volume</th><th>dividend_amount</th></tr><tr><th></th><th title=\"SubString{String}\">SubStrin…</th><th title=\"Float64\">Float64</th><th title=\"Float64\">Float64</th><th title=\"Float64\">Float64</th><th title=\"Float64\">Float64</th><th title=\"Float64\">Float64</th><th title=\"Int64\">Int64</th><th title=\"Float64\">Float64</th></tr></thead><tbody><tr><th>1</th><td>2022-11-18</td><td>397.74</td><td>397.81</td><td>393.04</td><td>396.03</td><td>396.03</td><td>92922451</td><td>0.0</td></tr><tr><th>2</th><td>2022-11-17</td><td>390.46</td><td>394.95</td><td>390.14</td><td>394.24</td><td>394.24</td><td>74496255</td><td>0.0</td></tr><tr><th>3</th><td>2022-11-16</td><td>396.78</td><td>397.78</td><td>394.79</td><td>395.45</td><td>395.45</td><td>68508454</td><td>0.0</td></tr><tr><th>4</th><td>2022-11-15</td><td>401.15</td><td>402.31</td><td>394.49</td><td>398.49</td><td>398.49</td><td>93194452</td><td>0.0</td></tr><tr><th>5</th><td>2022-11-14</td><td>396.66</td><td>400.18</td><td>394.83</td><td>395.12</td><td>395.12</td><td>71893165</td><td>0.0</td></tr><tr><th>6</th><td>2022-11-11</td><td>395.59</td><td>399.35</td><td>393.61</td><td>398.51</td><td>398.51</td><td>93839872</td><td>0.0</td></tr><tr><th>7</th><td>2022-11-10</td><td>388.05</td><td>395.04</td><td>385.642</td><td>394.69</td><td>394.69</td><td>141455847</td><td>0.0</td></tr><tr><th>8</th><td>2022-11-09</td><td>379.93</td><td>381.14</td><td>373.61</td><td>374.13</td><td>374.13</td><td>78495470</td><td>0.0</td></tr><tr><th>9</th><td>2022-11-08</td><td>381.11</td><td>385.12</td><td>377.72</td><td>382.0</td><td>382.0</td><td>84641062</td><td>0.0</td></tr><tr><th>10</th><td>2022-11-07</td><td>377.71</td><td>380.57</td><td>375.53</td><td>379.95</td><td>379.95</td><td>68286947</td><td>0.0</td></tr><tr><th>11</th><td>2022-11-04</td><td>377.0</td><td>378.87</td><td>370.0</td><td>376.35</td><td>376.35</td><td>103505182</td><td>0.0</td></tr><tr><th>12</th><td>2022-11-03</td><td>371.465</td><td>374.2</td><td>368.79</td><td>371.01</td><td>371.01</td><td>87100115</td><td>0.0</td></tr><tr><th>13</th><td>2022-11-02</td><td>383.9</td><td>388.63</td><td>374.76</td><td>374.87</td><td>374.87</td><td>126990356</td><td>0.0</td></tr><tr><th>14</th><td>2022-11-01</td><td>390.14</td><td>390.39</td><td>383.29</td><td>384.52</td><td>384.52</td><td>85407598</td><td>0.0</td></tr><tr><th>15</th><td>2022-10-31</td><td>386.44</td><td>388.4</td><td>385.26</td><td>386.21</td><td>386.21</td><td>96631258</td><td>0.0</td></tr><tr><th>16</th><td>2022-10-28</td><td>379.87</td><td>389.52</td><td>379.68</td><td>389.02</td><td>389.02</td><td>100301958</td><td>0.0</td></tr><tr><th>17</th><td>2022-10-27</td><td>383.07</td><td>385.0</td><td>379.33</td><td>379.98</td><td>379.98</td><td>81971756</td><td>0.0</td></tr><tr><th>18</th><td>2022-10-26</td><td>381.62</td><td>387.58</td><td>381.35</td><td>382.02</td><td>382.02</td><td>104087348</td><td>0.0</td></tr><tr><th>19</th><td>2022-10-25</td><td>378.79</td><td>385.25</td><td>378.671</td><td>384.92</td><td>384.92</td><td>78846348</td><td>0.0</td></tr><tr><th>20</th><td>2022-10-24</td><td>375.89</td><td>380.06</td><td>373.11</td><td>378.87</td><td>378.87</td><td>85436907</td><td>0.0</td></tr><tr><th>21</th><td>2022-10-21</td><td>365.12</td><td>374.8</td><td>363.54</td><td>374.29</td><td>374.29</td><td>131038379</td><td>0.0</td></tr><tr><th>22</th><td>2022-10-20</td><td>368.03</td><td>372.67</td><td>364.61</td><td>365.41</td><td>365.41</td><td>88283087</td><td>0.0</td></tr><tr><th>23</th><td>2022-10-19</td><td>368.99</td><td>371.85</td><td>365.55</td><td>368.5</td><td>368.5</td><td>79746863</td><td>0.0</td></tr><tr><th>24</th><td>2022-10-18</td><td>375.13</td><td>375.45</td><td>367.52</td><td>371.13</td><td>371.13</td><td>97162850</td><td>0.0</td></tr><tr><th>25</th><td>2022-10-17</td><td>364.01</td><td>367.98</td><td>357.281</td><td>366.82</td><td>366.82</td><td>93168231</td><td>0.0</td></tr><tr><th>26</th><td>2022-10-14</td><td>368.55</td><td>370.26</td><td>356.96</td><td>357.63</td><td>357.63</td><td>123737013</td><td>0.0</td></tr><tr><th>27</th><td>2022-10-13</td><td>349.205</td><td>367.51</td><td>348.11</td><td>365.97</td><td>365.97</td><td>147254518</td><td>0.0</td></tr><tr><th>28</th><td>2022-10-12</td><td>358.17</td><td>359.818</td><td>356.3</td><td>356.56</td><td>356.56</td><td>76991799</td><td>0.0</td></tr><tr><th>29</th><td>2022-10-11</td><td>358.235</td><td>363.03</td><td>355.71</td><td>357.74</td><td>357.74</td><td>92482785</td><td>0.0</td></tr><tr><th>30</th><td>2022-10-10</td><td>363.96</td><td>364.21</td><td>357.67</td><td>360.02</td><td>360.02</td><td>76042765</td><td>0.0</td></tr><tr><th>&vellip;</th><td>&vellip;</td><td>&vellip;</td><td>&vellip;</td><td>&vellip;</td><td>&vellip;</td><td>&vellip;</td><td>&vellip;</td><td>&vellip;</td></tr></tbody></table></div>"
      ],
      "text/latex": [
       "\\begin{tabular}{r|ccccccccc}\n",
       "\t& timestamp & open & high & low & close & adjusted\\_close & volume & dividend\\_amount & \\\\\n",
       "\t\\hline\n",
       "\t& SubStrin… & Float64 & Float64 & Float64 & Float64 & Float64 & Int64 & Float64 & \\\\\n",
       "\t\\hline\n",
       "\t1 & 2022-11-18 & 397.74 & 397.81 & 393.04 & 396.03 & 396.03 & 92922451 & 0.0 & $\\dots$ \\\\\n",
       "\t2 & 2022-11-17 & 390.46 & 394.95 & 390.14 & 394.24 & 394.24 & 74496255 & 0.0 & $\\dots$ \\\\\n",
       "\t3 & 2022-11-16 & 396.78 & 397.78 & 394.79 & 395.45 & 395.45 & 68508454 & 0.0 & $\\dots$ \\\\\n",
       "\t4 & 2022-11-15 & 401.15 & 402.31 & 394.49 & 398.49 & 398.49 & 93194452 & 0.0 & $\\dots$ \\\\\n",
       "\t5 & 2022-11-14 & 396.66 & 400.18 & 394.83 & 395.12 & 395.12 & 71893165 & 0.0 & $\\dots$ \\\\\n",
       "\t6 & 2022-11-11 & 395.59 & 399.35 & 393.61 & 398.51 & 398.51 & 93839872 & 0.0 & $\\dots$ \\\\\n",
       "\t7 & 2022-11-10 & 388.05 & 395.04 & 385.642 & 394.69 & 394.69 & 141455847 & 0.0 & $\\dots$ \\\\\n",
       "\t8 & 2022-11-09 & 379.93 & 381.14 & 373.61 & 374.13 & 374.13 & 78495470 & 0.0 & $\\dots$ \\\\\n",
       "\t9 & 2022-11-08 & 381.11 & 385.12 & 377.72 & 382.0 & 382.0 & 84641062 & 0.0 & $\\dots$ \\\\\n",
       "\t10 & 2022-11-07 & 377.71 & 380.57 & 375.53 & 379.95 & 379.95 & 68286947 & 0.0 & $\\dots$ \\\\\n",
       "\t11 & 2022-11-04 & 377.0 & 378.87 & 370.0 & 376.35 & 376.35 & 103505182 & 0.0 & $\\dots$ \\\\\n",
       "\t12 & 2022-11-03 & 371.465 & 374.2 & 368.79 & 371.01 & 371.01 & 87100115 & 0.0 & $\\dots$ \\\\\n",
       "\t13 & 2022-11-02 & 383.9 & 388.63 & 374.76 & 374.87 & 374.87 & 126990356 & 0.0 & $\\dots$ \\\\\n",
       "\t14 & 2022-11-01 & 390.14 & 390.39 & 383.29 & 384.52 & 384.52 & 85407598 & 0.0 & $\\dots$ \\\\\n",
       "\t15 & 2022-10-31 & 386.44 & 388.4 & 385.26 & 386.21 & 386.21 & 96631258 & 0.0 & $\\dots$ \\\\\n",
       "\t16 & 2022-10-28 & 379.87 & 389.52 & 379.68 & 389.02 & 389.02 & 100301958 & 0.0 & $\\dots$ \\\\\n",
       "\t17 & 2022-10-27 & 383.07 & 385.0 & 379.33 & 379.98 & 379.98 & 81971756 & 0.0 & $\\dots$ \\\\\n",
       "\t18 & 2022-10-26 & 381.62 & 387.58 & 381.35 & 382.02 & 382.02 & 104087348 & 0.0 & $\\dots$ \\\\\n",
       "\t19 & 2022-10-25 & 378.79 & 385.25 & 378.671 & 384.92 & 384.92 & 78846348 & 0.0 & $\\dots$ \\\\\n",
       "\t20 & 2022-10-24 & 375.89 & 380.06 & 373.11 & 378.87 & 378.87 & 85436907 & 0.0 & $\\dots$ \\\\\n",
       "\t21 & 2022-10-21 & 365.12 & 374.8 & 363.54 & 374.29 & 374.29 & 131038379 & 0.0 & $\\dots$ \\\\\n",
       "\t22 & 2022-10-20 & 368.03 & 372.67 & 364.61 & 365.41 & 365.41 & 88283087 & 0.0 & $\\dots$ \\\\\n",
       "\t23 & 2022-10-19 & 368.99 & 371.85 & 365.55 & 368.5 & 368.5 & 79746863 & 0.0 & $\\dots$ \\\\\n",
       "\t24 & 2022-10-18 & 375.13 & 375.45 & 367.52 & 371.13 & 371.13 & 97162850 & 0.0 & $\\dots$ \\\\\n",
       "\t25 & 2022-10-17 & 364.01 & 367.98 & 357.281 & 366.82 & 366.82 & 93168231 & 0.0 & $\\dots$ \\\\\n",
       "\t26 & 2022-10-14 & 368.55 & 370.26 & 356.96 & 357.63 & 357.63 & 123737013 & 0.0 & $\\dots$ \\\\\n",
       "\t27 & 2022-10-13 & 349.205 & 367.51 & 348.11 & 365.97 & 365.97 & 147254518 & 0.0 & $\\dots$ \\\\\n",
       "\t28 & 2022-10-12 & 358.17 & 359.818 & 356.3 & 356.56 & 356.56 & 76991799 & 0.0 & $\\dots$ \\\\\n",
       "\t29 & 2022-10-11 & 358.235 & 363.03 & 355.71 & 357.74 & 357.74 & 92482785 & 0.0 & $\\dots$ \\\\\n",
       "\t30 & 2022-10-10 & 363.96 & 364.21 & 357.67 & 360.02 & 360.02 & 76042765 & 0.0 & $\\dots$ \\\\\n",
       "\t$\\dots$ & $\\dots$ & $\\dots$ & $\\dots$ & $\\dots$ & $\\dots$ & $\\dots$ & $\\dots$ & $\\dots$ &  \\\\\n",
       "\\end{tabular}\n"
      ],
      "text/plain": [
       "\u001b[1m100×9 DataFrame\u001b[0m\n",
       "\u001b[1m Row \u001b[0m│\u001b[1m timestamp  \u001b[0m\u001b[1m open    \u001b[0m\u001b[1m high    \u001b[0m\u001b[1m low     \u001b[0m\u001b[1m close   \u001b[0m\u001b[1m adjusted_close \u001b[0m\u001b[1m volume \u001b[0m ⋯\n",
       "\u001b[1m     \u001b[0m│\u001b[90m SubStrin…  \u001b[0m\u001b[90m Float64 \u001b[0m\u001b[90m Float64 \u001b[0m\u001b[90m Float64 \u001b[0m\u001b[90m Float64 \u001b[0m\u001b[90m Float64        \u001b[0m\u001b[90m Int64  \u001b[0m ⋯\n",
       "─────┼──────────────────────────────────────────────────────────────────────────\n",
       "   1 │ 2022-11-18  397.74   397.81   393.04    396.03         396.03    929224 ⋯\n",
       "   2 │ 2022-11-17  390.46   394.95   390.14    394.24         394.24    744962\n",
       "   3 │ 2022-11-16  396.78   397.78   394.79    395.45         395.45    685084\n",
       "   4 │ 2022-11-15  401.15   402.31   394.49    398.49         398.49    931944\n",
       "   5 │ 2022-11-14  396.66   400.18   394.83    395.12         395.12    718931 ⋯\n",
       "   6 │ 2022-11-11  395.59   399.35   393.61    398.51         398.51    938398\n",
       "   7 │ 2022-11-10  388.05   395.04   385.642   394.69         394.69   1414558\n",
       "   8 │ 2022-11-09  379.93   381.14   373.61    374.13         374.13    784954\n",
       "   9 │ 2022-11-08  381.11   385.12   377.72    382.0          382.0     846410 ⋯\n",
       "  10 │ 2022-11-07  377.71   380.57   375.53    379.95         379.95    682869\n",
       "  11 │ 2022-11-04  377.0    378.87   370.0     376.35         376.35   1035051\n",
       "  ⋮  │     ⋮          ⋮        ⋮        ⋮        ⋮           ⋮             ⋮   ⋱\n",
       "  91 │ 2022-07-14  373.61   379.05   371.04    377.91         376.352   897048\n",
       "  92 │ 2022-07-13  375.1    381.92   374.658   378.83         377.268   842246 ⋯\n",
       "  93 │ 2022-07-12  383.65   386.16   378.99    380.83         379.26    622191\n",
       "  94 │ 2022-07-11  385.85   386.87   383.5     384.23         382.646   583669\n",
       "  95 │ 2022-07-08  387.27   390.64   385.66    388.67         387.067   723977\n",
       "  96 │ 2022-07-07  385.12   389.83   383.267   388.99         387.386   645259 ⋯\n",
       "  97 │ 2022-07-06  382.11   385.87   379.6     383.25         381.67    704262\n",
       "  98 │ 2022-07-05  375.88   381.98   372.9     381.96         380.385   814379\n",
       "  99 │ 2022-07-01  376.56   381.7    373.8     381.24         379.668   748397\n",
       " 100 │ 2022-06-30  376.24   380.658  372.56    377.25         375.694  1125082 ⋯\n",
       "\u001b[36m                                                   3 columns and 79 rows omitted\u001b[0m"
      ]
     },
     "execution_count": 11,
     "metadata": {},
     "output_type": "execute_result"
    }
   ],
   "source": [
    "spy = time_series_daily_adjusted(\"SPY\")\n",
    "DataFrame(spy)"
   ]
  },
  {
   "cell_type": "code",
   "execution_count": 5,
   "metadata": {},
   "outputs": [
    {
     "ename": "LoadError",
     "evalue": "MethodError: no method matching time_series_daily(::String; outputsize=\"full\", apikey=\"9EJJOC93M35KBI63\")\n\u001b[0mClosest candidates are:\n\u001b[0m  time_series_daily(::String; client, outputsize, datatype, parser) at C:\\Users\\Lucas\\.julia\\packages\\AlphaVantage\\c1lna\\src\\stock_time_series.jl:44\u001b[91m got unsupported keyword argument \"apikey\"\u001b[39m",
     "output_type": "error",
     "traceback": [
      "MethodError: no method matching time_series_daily(::String; outputsize=\"full\", apikey=\"9EJJOC93M35KBI63\")\n\u001b[0mClosest candidates are:\n\u001b[0m  time_series_daily(::String; client, outputsize, datatype, parser) at C:\\Users\\Lucas\\.julia\\packages\\AlphaVantage\\c1lna\\src\\stock_time_series.jl:44\u001b[91m got unsupported keyword argument \"apikey\"\u001b[39m",
      "",
      "Stacktrace:",
      " [1] kwerr(::NamedTuple{(:outputsize, :apikey), Tuple{String, String}}, ::Function, ::String)",
      "   @ Base .\\error.jl:163",
      " [2] top-level scope",
      "   @ .\\In[5]:6",
      " [3] eval",
      "   @ .\\boot.jl:373 [inlined]",
      " [4] include_string(mapexpr::typeof(REPL.softscope), mod::Module, code::String, filename::String)",
      "   @ Base .\\loading.jl:1196"
     ]
    }
   ],
   "source": [
    "using DataFrames\n",
    "tickers = [\"B3SA3.SA\", \"PETR4.SA\", \"VALE3.SA\", \"ITUB4.SA\", \"BBAS3.SA\", \"USIM5.SA\"]\n",
    "\n",
    "returns_df = DataFrame()\n",
    "for ticker in tickers\n",
    "    df = DataFrame(time_series_daily_adjusted(ticker, outputsize=\"full\", apikey=key))\n",
    "    # limit the size of df to be the same as the others (to avoid errors)\n",
    "    df = df[1:1000, :]\n",
    "    returns = df.close[2:end] ./ df.close[1:end-1] .- 1\n",
    "    returns_df[!, Symbol(ticker)] = returns\n",
    "end"
   ]
  },
  {
   "cell_type": "code",
   "execution_count": null,
   "metadata": {},
   "outputs": [],
   "source": [
    "returns_df"
   ]
  },
  {
   "cell_type": "code",
   "execution_count": null,
   "metadata": {},
   "outputs": [],
   "source": [
    "using CSV\n",
    "CSV.write(\"returns.csv\", returns_df)"
   ]
  },
  {
   "cell_type": "code",
   "execution_count": null,
   "metadata": {},
   "outputs": [],
   "source": [
    "new_df = CSV.read(\"./returns.csv\", DataFrame)\n"
   ]
  },
  {
   "cell_type": "code",
   "execution_count": 1,
   "metadata": {},
   "outputs": [
    {
     "data": {
      "text/latex": [
       "$$ r_{1} + 2 r_{2} + 3 r_{3} $$"
      ],
      "text/plain": [
       "r[1] + 2 r[2] + 3 r[3]"
      ]
     },
     "execution_count": 1,
     "metadata": {},
     "output_type": "execute_result"
    }
   ],
   "source": [
    "using Dualization, JuMP, HiGHS\n",
    "\n",
    "σ = [100,200,300]\n",
    "r_bar = [1,2,3]\n",
    "Gamma = 5000\n",
    "\n",
    "\n",
    "\n",
    "model = Model()\n",
    "@variable(model, r[1:3] >= 0)\n",
    "@variable(model, z[1:3] >= 0)\n",
    "@constraint(model, negcon[i = 1:3], - r[i] + z[i]*σ[i] >= -r_bar[i])\n",
    "@constraint(model, poscon[i = 1:3],  r[i] + z[i]*σ[i] >= r_bar[i])\n",
    "@constraint(model, equalcon, sum(z) <= Gamma)\n",
    "@constraint(model, lesscon[i = 1:3], z[i] ≤ 1)\n",
    "@objective(model, Min, sum(r .* r_bar))"
   ]
  },
  {
   "cell_type": "code",
   "execution_count": 2,
   "metadata": {},
   "outputs": [
    {
     "data": {
      "text/plain": [
       "A JuMP Model\n",
       "Maximization problem with:\n",
       "Variables: 10\n",
       "Objective function type: AffExpr\n",
       "`AffExpr`-in-`MathOptInterface.GreaterThan{Float64}`: 6 constraints\n",
       "`VariableRef`-in-`MathOptInterface.GreaterThan{Float64}`: 6 constraints\n",
       "`VariableRef`-in-`MathOptInterface.LessThan{Float64}`: 4 constraints\n",
       "Model mode: AUTOMATIC\n",
       "CachingOptimizer state: NO_OPTIMIZER\n",
       "Solver name: No optimizer attached.\n",
       "Names registered in the model: dual_equalcon_1, dual_lesscon[1]_1, dual_lesscon[2]_1, dual_lesscon[3]_1, dual_negcon[1]_1, dual_negcon[2]_1, dual_negcon[3]_1, dual_poscon[1]_1, dual_poscon[2]_1, dual_poscon[3]_1, r[1], r[2], r[3], z[1], z[2], z[3]"
      ]
     },
     "execution_count": 2,
     "metadata": {},
     "output_type": "execute_result"
    }
   ],
   "source": [
    "dual_model = dualize(model, dual_names = DualNames(\"dual_\", \"\"))"
   ]
  },
  {
   "cell_type": "code",
   "execution_count": 3,
   "metadata": {},
   "outputs": [
    {
     "data": {
      "text/latex": [
       "$$ \\begin{aligned}\n",
       "\\min\\quad & r_{1} + 2 r_{2} + 3 r_{3}\\\\\n",
       "\\text{Subject to} \\quad & -r_{1} + 100 z_{1} \\geq -1.0\\\\\n",
       " & -r_{2} + 200 z_{2} \\geq -2.0\\\\\n",
       " & -r_{3} + 300 z_{3} \\geq -3.0\\\\\n",
       " & r_{1} + 100 z_{1} \\geq 1.0\\\\\n",
       " & r_{2} + 200 z_{2} \\geq 2.0\\\\\n",
       " & r_{3} + 300 z_{3} \\geq 3.0\\\\\n",
       " & z_{1} + z_{2} + z_{3} \\leq 5000.0\\\\\n",
       " & z_{1} \\leq 1.0\\\\\n",
       " & z_{2} \\leq 1.0\\\\\n",
       " & z_{3} \\leq 1.0\\\\\n",
       " & r_{1} \\geq 0.0\\\\\n",
       " & r_{2} \\geq 0.0\\\\\n",
       " & r_{3} \\geq 0.0\\\\\n",
       " & z_{1} \\geq 0.0\\\\\n",
       " & z_{2} \\geq 0.0\\\\\n",
       " & z_{3} \\geq 0.0\\\\\n",
       "\\end{aligned} $$"
      ]
     },
     "metadata": {},
     "output_type": "display_data"
    }
   ],
   "source": [
    "print(model)"
   ]
  },
  {
   "cell_type": "code",
   "execution_count": 4,
   "metadata": {},
   "outputs": [
    {
     "data": {
      "text/latex": [
       "$$ \\begin{aligned}\n",
       "\\max\\quad & 2 dual\\_poscon[2]\\_1 + dual\\_poscon[1]\\_1 + 3 dual\\_poscon[3]\\_1 + 5000 dual\\_equalcon\\_1 - 2 dual\\_negcon[2]\\_1 + dual\\_lesscon[3]\\_1 + dual\\_lesscon[2]\\_1 + dual\\_lesscon[1]\\_1 - 3 dual\\_negcon[3]\\_1 - dual\\_negcon[1]\\_1\\\\\n",
       "\\text{Subject to} \\quad & -100 dual\\_negcon[1]\\_1 - 100 dual\\_poscon[1]\\_1 - dual\\_equalcon\\_1 - dual\\_lesscon[1]\\_1 \\geq 0.0\\\\\n",
       " & -300 dual\\_negcon[3]\\_1 - 300 dual\\_poscon[3]\\_1 - dual\\_equalcon\\_1 - dual\\_lesscon[3]\\_1 \\geq 0.0\\\\\n",
       " & -200 dual\\_negcon[2]\\_1 - 200 dual\\_poscon[2]\\_1 - dual\\_equalcon\\_1 - dual\\_lesscon[2]\\_1 \\geq 0.0\\\\\n",
       " & dual\\_negcon[2]\\_1 - dual\\_poscon[2]\\_1 \\geq -2.0\\\\\n",
       " & dual\\_negcon[1]\\_1 - dual\\_poscon[1]\\_1 \\geq -1.0\\\\\n",
       " & dual\\_negcon[3]\\_1 - dual\\_poscon[3]\\_1 \\geq -3.0\\\\\n",
       " & dual\\_negcon[1]\\_1 \\geq 0.0\\\\\n",
       " & dual\\_negcon[2]\\_1 \\geq 0.0\\\\\n",
       " & dual\\_negcon[3]\\_1 \\geq 0.0\\\\\n",
       " & dual\\_poscon[1]\\_1 \\geq 0.0\\\\\n",
       " & dual\\_poscon[2]\\_1 \\geq 0.0\\\\\n",
       " & dual\\_poscon[3]\\_1 \\geq 0.0\\\\\n",
       " & dual\\_equalcon\\_1 \\leq 0.0\\\\\n",
       " & dual\\_lesscon[1]\\_1 \\leq 0.0\\\\\n",
       " & dual\\_lesscon[2]\\_1 \\leq 0.0\\\\\n",
       " & dual\\_lesscon[3]\\_1 \\leq 0.0\\\\\n",
       "\\end{aligned} $$"
      ]
     },
     "metadata": {},
     "output_type": "display_data"
    }
   ],
   "source": [
    "print(dual_model)"
   ]
  }
 ],
 "metadata": {
  "kernelspec": {
   "display_name": "Julia 1.7.3",
   "language": "julia",
   "name": "julia-1.7"
  },
  "language_info": {
   "file_extension": ".jl",
   "mimetype": "application/julia",
   "name": "julia",
   "version": "1.7.3"
  },
  "orig_nbformat": 4
 },
 "nbformat": 4,
 "nbformat_minor": 2
}
