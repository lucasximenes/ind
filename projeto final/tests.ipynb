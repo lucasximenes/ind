{
 "cells": [
  {
   "cell_type": "code",
   "execution_count": null,
   "metadata": {},
   "outputs": [],
   "source": [
    "using AlphaVantage"
   ]
  },
  {
   "cell_type": "code",
   "execution_count": null,
   "metadata": {},
   "outputs": [],
   "source": [
    "using DataFrames\n",
    "tickers = [\"B3SA3.SA\", \"PETR4.SA\", \"VALE3.SA\", \"ITUB4.SA\", \"BBAS3.SA\", \"USIM5.SA\"]\n",
    "\n",
    "returns_df = DataFrame()\n",
    "for ticker in tickers\n",
    "    df = DataFrame(time_series_daily(ticker, outputsize=\"full\"))\n",
    "    # limit the size of df to be the same as the others (to avoid errors)\n",
    "    df = df[1:1000, :]\n",
    "    returns = df.close[2:end] ./ df.close[1:end-1] .- 1\n",
    "    returns_df[!, Symbol(ticker)] = returns\n",
    "end"
   ]
  },
  {
   "cell_type": "code",
   "execution_count": null,
   "metadata": {},
   "outputs": [],
   "source": [
    "returns_df"
   ]
  },
  {
   "cell_type": "code",
   "execution_count": null,
   "metadata": {},
   "outputs": [],
   "source": [
    "using CSV\n",
    "CSV.write(\"returns.csv\", returns_df)"
   ]
  },
  {
   "cell_type": "code",
   "execution_count": null,
   "metadata": {},
   "outputs": [],
   "source": [
    "new_df = CSV.read(\"./returns.csv\", DataFrame)\n"
   ]
  },
  {
   "cell_type": "code",
   "execution_count": 30,
   "metadata": {},
   "outputs": [
    {
     "data": {
      "text/latex": [
       "$$ r_{1} + 2 r_{2} + 3 r_{3} $$"
      ],
      "text/plain": [
       "r[1] + 2 r[2] + 3 r[3]"
      ]
     },
     "execution_count": 30,
     "metadata": {},
     "output_type": "execute_result"
    }
   ],
   "source": [
    "using Dualization, JuMP, HiGHS\n",
    "\n",
    "σ = [100,200,300]\n",
    "r_bar = [1,2,3]\n",
    "Gamma = 5000\n",
    "\n",
    "\n",
    "\n",
    "model = Model()\n",
    "@variable(model, r[1:3] >= 0)\n",
    "@variable(model, z[1:3] >= 0)\n",
    "@constraint(model, negcon[i = 1:3], - r[i] + z[i]*σ[i] >= -r_bar[i])\n",
    "@constraint(model, poscon[i = 1:3],  r[i] + z[i]*σ[i] >= r_bar[i])\n",
    "@constraint(model, equalcon, sum(z) == Gamma)\n",
    "@constraint(model, lesscon[i = 1:3], z[i] ≤ 1)\n",
    "@objective(model, Min, sum(r .* r_bar))"
   ]
  },
  {
   "cell_type": "code",
   "execution_count": 31,
   "metadata": {},
   "outputs": [
    {
     "data": {
      "text/plain": [
       "A JuMP Model\n",
       "Maximization problem with:\n",
       "Variables: 10\n",
       "Objective function type: AffExpr\n",
       "`AffExpr`-in-`MathOptInterface.GreaterThan{Float64}`: 6 constraints\n",
       "`VariableRef`-in-`MathOptInterface.GreaterThan{Float64}`: 6 constraints\n",
       "`VariableRef`-in-`MathOptInterface.LessThan{Float64}`: 3 constraints\n",
       "Model mode: AUTOMATIC\n",
       "CachingOptimizer state: NO_OPTIMIZER\n",
       "Solver name: No optimizer attached.\n",
       "Names registered in the model: dual_equalcon_1, dual_lesscon[1]_1, dual_lesscon[2]_1, dual_lesscon[3]_1, dual_negcon[1]_1, dual_negcon[2]_1, dual_negcon[3]_1, dual_poscon[1]_1, dual_poscon[2]_1, dual_poscon[3]_1, r[1], r[2], r[3], z[1], z[2], z[3]"
      ]
     },
     "execution_count": 31,
     "metadata": {},
     "output_type": "execute_result"
    }
   ],
   "source": [
    "dual_model = dualize(model, dual_names = DualNames(\"dual_\", \"\"))"
   ]
  },
  {
   "cell_type": "code",
   "execution_count": 26,
   "metadata": {},
   "outputs": [
    {
     "data": {
      "text/latex": [
       "$$ \\begin{aligned}\n",
       "\\min\\quad & r_{1} + 2 r_{2} + 3 r_{3}\\\\\n",
       "\\text{Subject to} \\quad & z_{1} + z_{2} + z_{3} = 5000.0\\\\\n",
       " & -r_{1} + 100 z_{1} \\geq -1.0\\\\\n",
       " & -r_{2} + 200 z_{2} \\geq -2.0\\\\\n",
       " & -r_{3} + 300 z_{3} \\geq -3.0\\\\\n",
       " & r_{1} + 100 z_{1} \\geq 1.0\\\\\n",
       " & r_{2} + 200 z_{2} \\geq 2.0\\\\\n",
       " & r_{3} + 300 z_{3} \\geq 3.0\\\\\n",
       " & z_{1} \\leq 1.0\\\\\n",
       " & z_{2} \\leq 1.0\\\\\n",
       " & z_{3} \\leq 1.0\\\\\n",
       " & r_{1} \\geq 0.0\\\\\n",
       " & r_{2} \\geq 0.0\\\\\n",
       " & r_{3} \\geq 0.0\\\\\n",
       " & z_{1} \\geq 0.0\\\\\n",
       " & z_{2} \\geq 0.0\\\\\n",
       " & z_{3} \\geq 0.0\\\\\n",
       "\\end{aligned} $$"
      ]
     },
     "metadata": {},
     "output_type": "display_data"
    }
   ],
   "source": [
    "print(model)"
   ]
  },
  {
   "cell_type": "code",
   "execution_count": 32,
   "metadata": {},
   "outputs": [
    {
     "data": {
      "text/latex": [
       "$$ \\begin{aligned}\n",
       "\\max\\quad & dual\\_poscon[1]\\_1 - 3 dual\\_negcon[3]\\_1 + 2 dual\\_poscon[2]\\_1 + 3 dual\\_poscon[3]\\_1 - dual\\_negcon[1]\\_1 + dual\\_lesscon[3]\\_1 + dual\\_lesscon[2]\\_1 + dual\\_lesscon[1]\\_1 - 2 dual\\_negcon[2]\\_1 + 5000 dual\\_equalcon\\_1\\\\\n",
       "\\text{Subject to} \\quad & -dual\\_equalcon\\_1 - 100 dual\\_negcon[1]\\_1 - 100 dual\\_poscon[1]\\_1 - dual\\_lesscon[1]\\_1 \\geq 0.0\\\\\n",
       " & -dual\\_equalcon\\_1 - 300 dual\\_negcon[3]\\_1 - 300 dual\\_poscon[3]\\_1 - dual\\_lesscon[3]\\_1 \\geq 0.0\\\\\n",
       " & -dual\\_equalcon\\_1 - 200 dual\\_negcon[2]\\_1 - 200 dual\\_poscon[2]\\_1 - dual\\_lesscon[2]\\_1 \\geq 0.0\\\\\n",
       " & dual\\_negcon[2]\\_1 - dual\\_poscon[2]\\_1 \\geq -2.0\\\\\n",
       " & dual\\_negcon[1]\\_1 - dual\\_poscon[1]\\_1 \\geq -1.0\\\\\n",
       " & dual\\_negcon[3]\\_1 - dual\\_poscon[3]\\_1 \\geq -3.0\\\\\n",
       " & dual\\_negcon[1]\\_1 \\geq 0.0\\\\\n",
       " & dual\\_negcon[2]\\_1 \\geq 0.0\\\\\n",
       " & dual\\_negcon[3]\\_1 \\geq 0.0\\\\\n",
       " & dual\\_poscon[1]\\_1 \\geq 0.0\\\\\n",
       " & dual\\_poscon[2]\\_1 \\geq 0.0\\\\\n",
       " & dual\\_poscon[3]\\_1 \\geq 0.0\\\\\n",
       " & dual\\_lesscon[1]\\_1 \\leq 0.0\\\\\n",
       " & dual\\_lesscon[2]\\_1 \\leq 0.0\\\\\n",
       " & dual\\_lesscon[3]\\_1 \\leq 0.0\\\\\n",
       "\\end{aligned} $$"
      ]
     },
     "metadata": {},
     "output_type": "display_data"
    }
   ],
   "source": [
    "print(dual_model)"
   ]
  }
 ],
 "metadata": {
  "kernelspec": {
   "display_name": "Julia 1.7.3",
   "language": "julia",
   "name": "julia-1.7"
  },
  "language_info": {
   "file_extension": ".jl",
   "mimetype": "application/julia",
   "name": "julia",
   "version": "1.7.3"
  },
  "orig_nbformat": 4
 },
 "nbformat": 4,
 "nbformat_minor": 2
}
