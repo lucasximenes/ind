{
 "cells": [
  {
   "cell_type": "code",
   "execution_count": 1,
   "metadata": {},
   "outputs": [],
   "source": [
    "using JuMP, HiGHS, LinearAlgebra, AlphaVantage"
   ]
  },
  {
   "cell_type": "code",
   "execution_count": 3,
   "metadata": {},
   "outputs": [
    {
     "data": {
      "text/plain": [
       "\"9EJJOC93M35KBI63\""
      ]
     },
     "execution_count": 3,
     "metadata": {},
     "output_type": "execute_result"
    }
   ],
   "source": [
    "client.key = \"9EJJOC93M35KBI63\""
   ]
  },
  {
   "cell_type": "code",
   "execution_count": 4,
   "metadata": {},
   "outputs": [
    {
     "data": {
      "text/plain": [
       "AlphaVantageClient(\"https\", \"9EJJOC93M35KBI63\", \"www.alphavantage.co\")"
      ]
     },
     "execution_count": 4,
     "metadata": {},
     "output_type": "execute_result"
    }
   ],
   "source": [
    "client = AlphaVantage.GLOBAL[]"
   ]
  },
  {
   "cell_type": "code",
   "execution_count": 7,
   "metadata": {},
   "outputs": [
    {
     "data": {
      "text/plain": [
       "AlphaVantageResponse(AbstractVector[SubString{String}[\"2022-10-20\", \"2022-10-19\", \"2022-10-18\", \"2022-10-17\", \"2022-10-14\", \"2022-10-13\", \"2022-10-11\", \"2022-10-10\", \"2022-10-07\", \"2022-10-06\"  …  \"2022-06-13\", \"2022-06-10\", \"2022-06-09\", \"2022-06-08\", \"2022-06-07\", \"2022-06-06\", \"2022-06-03\", \"2022-06-02\", \"2022-06-01\", \"2022-05-31\"], [14.34, 14.11, 14.39, 14.0, 14.02, 14.0, 14.8, 14.89, 14.82, 14.8  …  11.49, 11.8, 11.78, 11.8, 12.17, 12.77, 12.85, 12.59, 12.77, 12.83], [14.43, 14.31, 14.41, 14.42, 14.22, 14.26, 14.81, 14.92, 14.95, 14.99  …  11.68, 11.94, 12.16, 12.05, 12.25, 12.79, 12.92, 12.99, 12.83, 12.96], [13.87, 13.85, 13.84, 13.82, 13.66, 13.66, 14.21, 14.62, 14.64, 14.56  …  11.31, 11.65, 11.76, 11.74, 11.81, 12.22, 12.59, 12.59, 12.49, 12.63], [14.0, 14.25, 14.0, 14.15, 13.89, 13.9, 14.35, 14.84, 14.8, 14.83  …  11.54, 11.66, 11.95, 11.79, 11.89, 12.28, 12.67, 12.89, 12.5, 12.77], [68776300, 31144700, 48479200, 32624700, 61172000, 75195100, 35328900, 23633600, 15926100, 38746900  …  36937398, 26122400, 27003801, 24918100, 37834602, 19721100, 16427900, 24906301, 23495500, 122916602]], AbstractString[\"timestamp\", \"open\", \"high\", \"low\", \"close\", \"volume\"])"
      ]
     },
     "execution_count": 7,
     "metadata": {},
     "output_type": "execute_result"
    }
   ],
   "source": [
    "tsla = time_series_daily(\"TSLA\")\n",
    "b3sa3 = time_series_daily(\"B3SA3.SA\")"
   ]
  },
  {
   "cell_type": "code",
   "execution_count": 8,
   "metadata": {},
   "outputs": [
    {
     "ename": "LoadError",
     "evalue": "MethodError: no method matching getindex(::AlphaVantageResponse, ::Int64)",
     "output_type": "error",
     "traceback": [
      "MethodError: no method matching getindex(::AlphaVantageResponse, ::Int64)",
      "",
      "Stacktrace:",
      " [1] top-level scope",
      "   @ In[8]:1",
      " [2] eval",
      "   @ .\\boot.jl:373 [inlined]",
      " [3] include_string(mapexpr::typeof(REPL.softscope), mod::Module, code::String, filename::String)",
      "   @ Base .\\loading.jl:1196"
     ]
    }
   ],
   "source": [
    "b3sa3[1]"
   ]
  },
  {
   "cell_type": "code",
   "execution_count": null,
   "metadata": {},
   "outputs": [],
   "source": [
    "function inner_problem(x, gamma)\n",
    "    m = JuMP.Model(HiGHS.Optimizer)\n",
    "    N = length(x)\n",
    "    @variables(m,\n",
    "    z[1:N],\n",
    "\n",
    "    )\n",
    "    @constraint(m, con1, sum(z) == gamma)\n",
    "    @constraint(m, con2[n=1:N], 0 ≤ z[n] ≤ 1)\n",
    "    \n",
    "\n",
    "end\n"
   ]
  }
 ],
 "metadata": {
  "kernelspec": {
   "display_name": "Julia 1.7.2",
   "language": "julia",
   "name": "julia-1.7"
  },
  "language_info": {
   "file_extension": ".jl",
   "mimetype": "application/julia",
   "name": "julia",
   "version": "1.7.2"
  },
  "orig_nbformat": 4
 },
 "nbformat": 4,
 "nbformat_minor": 2
}
